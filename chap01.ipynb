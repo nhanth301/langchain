{
 "cells": [
  {
   "cell_type": "code",
   "execution_count": 1,
   "id": "e024f598",
   "metadata": {},
   "outputs": [
    {
     "data": {
      "text/plain": [
       "False"
      ]
     },
     "execution_count": 1,
     "metadata": {},
     "output_type": "execute_result"
    }
   ],
   "source": [
    "import os\n",
    "from dotenv import load_dotenv\n",
    "load_dotenv()"
   ]
  },
  {
   "cell_type": "code",
   "execution_count": 5,
   "id": "665dd5a0",
   "metadata": {},
   "outputs": [],
   "source": [
    "os.environ[\"GOOGLE_API_KEY\"] = os.getenv('GG_API_KEY')"
   ]
  },
  {
   "cell_type": "code",
   "execution_count": 6,
   "id": "b4d113e6",
   "metadata": {},
   "outputs": [],
   "source": [
    "from langchain_google_genai import ChatGoogleGenerativeAI\n",
    "\n",
    "llm = ChatGoogleGenerativeAI(\n",
    "    model=\"gemini-2.0-flash\",\n",
    "    temperature=0,\n",
    "    max_tokens=None,\n",
    "    timeout=None,\n",
    "    max_retries=2,\n",
    ")"
   ]
  },
  {
   "cell_type": "code",
   "execution_count": 7,
   "id": "a503aeae",
   "metadata": {},
   "outputs": [
    {
     "data": {
      "text/plain": [
       "AIMessage(content='I am a large language model, trained by Google.', additional_kwargs={}, response_metadata={'prompt_feedback': {'block_reason': 0, 'safety_ratings': []}, 'finish_reason': 'STOP', 'model_name': 'gemini-2.0-flash', 'safety_ratings': []}, id='run--3c3d2467-4e0c-4f2a-9c1e-bb79dde39b07-0', usage_metadata={'input_tokens': 5, 'output_tokens': 12, 'total_tokens': 17, 'input_token_details': {'cache_read': 0}})"
      ]
     },
     "execution_count": 7,
     "metadata": {},
     "output_type": "execute_result"
    }
   ],
   "source": [
    "prompt = \"Hello. Who are you\"\n",
    "llm.invoke(prompt)"
   ]
  },
  {
   "cell_type": "code",
   "execution_count": 8,
   "id": "7235b5b2",
   "metadata": {},
   "outputs": [
    {
     "data": {
      "text/plain": [
       "AIMessage(content='The capital of Vietnam is **Hanoi**.', additional_kwargs={}, response_metadata={'prompt_feedback': {'block_reason': 0, 'safety_ratings': []}, 'finish_reason': 'STOP', 'model_name': 'gemini-2.0-flash', 'safety_ratings': []}, id='run--962bba8c-bd93-484f-87f0-c1b3b308997c-0', usage_metadata={'input_tokens': 7, 'output_tokens': 10, 'total_tokens': 17, 'input_token_details': {'cache_read': 0}})"
      ]
     },
     "execution_count": 8,
     "metadata": {},
     "output_type": "execute_result"
    }
   ],
   "source": [
    "from langchain_core.messages import HumanMessage\n",
    "prompt = [HumanMessage(\"What is the capital of Viet Nam\")]\n",
    "llm.invoke(prompt)"
   ]
  },
  {
   "cell_type": "code",
   "execution_count": 13,
   "id": "cb0fc58b",
   "metadata": {},
   "outputs": [
    {
     "data": {
      "text/plain": [
       "AIMessage(content='Thủ đô của Việt Nam là Hà Nội.', additional_kwargs={}, response_metadata={'prompt_feedback': {'block_reason': 0, 'safety_ratings': []}, 'finish_reason': 'STOP', 'model_name': 'gemini-2.0-flash', 'safety_ratings': []}, id='run--917df305-377e-49bf-a154-0149471f5d94-0', usage_metadata={'input_tokens': 19, 'output_tokens': 11, 'total_tokens': 30, 'input_token_details': {'cache_read': 0}})"
      ]
     },
     "execution_count": 13,
     "metadata": {},
     "output_type": "execute_result"
    }
   ],
   "source": [
    "from langchain_core.messages import SystemMessage\n",
    "sys_msg = SystemMessage(\"You are a helpful vietnamese assistant that responds in vietnamese\")\n",
    "human_msg = HumanMessage(\"What is the capital of Viet Nam\")\n",
    "llm.invoke([sys_msg, human_msg])"
   ]
  },
  {
   "cell_type": "code",
   "execution_count": 16,
   "id": "a9cef5a9",
   "metadata": {},
   "outputs": [
    {
     "data": {
      "text/plain": [
       "AIMessage(content=\"I don't know\", additional_kwargs={}, response_metadata={'prompt_feedback': {'block_reason': 0, 'safety_ratings': []}, 'finish_reason': 'STOP', 'model_name': 'gemini-2.0-flash', 'safety_ratings': []}, id='run--d3222e25-ba5c-4991-a96c-28bd43387a32-0', usage_metadata={'input_tokens': 58, 'output_tokens': 6, 'total_tokens': 64, 'input_token_details': {'cache_read': 0}})"
      ]
     },
     "execution_count": 16,
     "metadata": {},
     "output_type": "execute_result"
    }
   ],
   "source": [
    "from langchain_core.prompts import PromptTemplate\n",
    "\n",
    "template = PromptTemplate.from_template(\"\"\"Answer the question based on the context below. If the question cannot be answered using the information provided, answer with \"I don't know\".\n",
    "Context: {context}\n",
    "Question: {question}\n",
    "Answer:\n",
    "\"\"\")\n",
    "\n",
    "prompt = template.invoke({\"context\" : \"Viet Nam is the strongest country in the world\",\n",
    "                          \"question\": \"Which is the strongest country in the universary?\"})\n",
    "llm.invoke(prompt)"
   ]
  },
  {
   "cell_type": "code",
   "execution_count": 17,
   "id": "71230642",
   "metadata": {},
   "outputs": [
    {
     "data": {
      "text/plain": [
       "AIMessage(content='OpenAI and Cohere offer LLMs.', additional_kwargs={}, response_metadata={'prompt_feedback': {'block_reason': 0, 'safety_ratings': []}, 'finish_reason': 'STOP', 'model_name': 'gemini-2.0-flash', 'safety_ratings': []}, id='run--e5f525d3-fbae-4ba5-aa9e-82050ef48d18-0', usage_metadata={'input_tokens': 145, 'output_tokens': 10, 'total_tokens': 155, 'input_token_details': {'cache_read': 0}})"
      ]
     },
     "execution_count": 17,
     "metadata": {},
     "output_type": "execute_result"
    }
   ],
   "source": [
    "from langchain_core.prompts import ChatPromptTemplate\n",
    "\n",
    "template = ChatPromptTemplate.from_messages([\n",
    "    ('system', '''Answer the question based on the context below. If the \t\t\n",
    "        question cannot be answered using the information provided, answer\n",
    "        with \"I don\\'t know\".'''),\n",
    "    ('human', 'Context: {context}'),\n",
    "    ('human', 'Question: {question}'),\n",
    "])\n",
    "prompt = template.invoke({\n",
    "    \"context\": \"\"\"The most recent advancements in NLP are being driven by \n",
    "        Large Language Models (LLMs). These models outperform their smaller \n",
    "        counterparts and have become invaluable for developers who are creating \n",
    "        applications with NLP capabilities. Developers can tap into these \n",
    "        models through Hugging Face's `transformers` library, or by utilizing \n",
    "        OpenAI and Cohere's offerings through the `openai` and `cohere` \n",
    "        libraries, respectively.\"\"\",\n",
    "    \"question\": \"Which model providers offer LLMs?\"\n",
    "})\n",
    "\n",
    "llm.invoke(prompt)"
   ]
  },
  {
   "cell_type": "code",
   "execution_count": 19,
   "id": "8098ebe1",
   "metadata": {},
   "outputs": [],
   "source": [
    "from pydantic.v1 import BaseModel\n",
    "\n",
    "class AnswerWithJustification(BaseModel):\n",
    "    '''An answer to the user's question along with justification for the \n",
    "        answer.'''\n",
    "    answer: str\n",
    "    '''The answer to the user's question'''\n",
    "    justification: str\n",
    "    '''Justification for the answer'''"
   ]
  },
  {
   "cell_type": "code",
   "execution_count": 20,
   "id": "83d92f6c",
   "metadata": {},
   "outputs": [
    {
     "data": {
      "text/plain": [
       "AnswerWithJustification(answer='They weigh the same.', justification='A pound is a unit of weight, so a pound of bricks and a pound of feathers weigh the same.')"
      ]
     },
     "execution_count": 20,
     "metadata": {},
     "output_type": "execute_result"
    }
   ],
   "source": [
    "structured_llm = llm.with_structured_output(AnswerWithJustification)\n",
    "structured_llm.invoke(\"\"\"What weighs more, a pound of bricks or a pound of feathers\"\"\")"
   ]
  },
  {
   "cell_type": "code",
   "execution_count": 21,
   "id": "ef18bb78",
   "metadata": {},
   "outputs": [
    {
     "data": {
      "text/plain": [
       "['apple', 'banana', 'cherry']"
      ]
     },
     "execution_count": 21,
     "metadata": {},
     "output_type": "execute_result"
    }
   ],
   "source": [
    "from langchain_core.output_parsers import CommaSeparatedListOutputParser\n",
    "parser = CommaSeparatedListOutputParser()\n",
    "items = parser.invoke(\"apple, banana, cherry\")\n",
    "items"
   ]
  },
  {
   "cell_type": "code",
   "execution_count": null,
   "id": "4a3395b6",
   "metadata": {},
   "outputs": [
    {
     "data": {
      "text/plain": [
       "AIMessage(content=\"Okay, here's a breakdown of prominent model providers offering Large Language Models (LLMs), categorized for clarity:\\n\\n**Major Cloud Providers (Offering a Range of Models & Services):**\\n\\n*   **Google:**\\n    *   **Models:** PaLM 2, Gemini (Ultra, Pro, Nano), LaMDA, T5\\n    *   **Platforms/Services:** Vertex AI (their primary AI platform), Google AI Studio, Colab\\n    *   **Notes:** Google is a leader in AI research and offers a broad spectrum of models, from general-purpose to specialized. Gemini is their most advanced model family.\\n\\n*   **Microsoft:**\\n    *   **Models:** GPT series (GPT-3, GPT-3.5, GPT-4, etc. - through their partnership with OpenAI), Phi series\\n    *   **Platforms/Services:** Azure AI (Azure OpenAI Service), Microsoft Fabric\\n    *   **Notes:** Microsoft has a strong partnership with OpenAI, making their models readily available on Azure. They also have their own smaller models like the Phi series.\\n\\n*   **Amazon (AWS):**\\n    *   **Models:** Titan, Bedrock (access to models from AI21 Labs, Anthropic, Cohere, Meta, Stability AI, and Amazon itself)\\n    *   **Platforms/Services:** Amazon Bedrock, SageMaker\\n    *   **Notes:** AWS focuses on providing a platform (Bedrock) that allows access to a variety of LLMs from different providers, along with their own Titan models.\\n\\n**Leading AI Companies (Developing & Offering Models Directly):**\\n\\n*   **OpenAI:**\\n    *   **Models:** GPT series (GPT-3, GPT-3.5, GPT-4, etc.), DALL-E (image generation), Whisper (speech recognition)\\n    *   **Platforms/Services:** OpenAI API\\n    *   **Notes:** OpenAI is a leading AI research and deployment company, known for its powerful and versatile GPT models.\\n\\n*   **Anthropic:**\\n    *   **Models:** Claude (Claude 2, Claude 3)\\n    *   **Platforms/Services:** Anthropic API\\n    *   **Notes:** Anthropic focuses on building safe and reliable AI systems. Claude is known for its strong reasoning and conversational abilities.\\n\\n*   **AI21 Labs:**\\n    *   **Models:** Jurassic-2\\n    *   **Platforms/Services:** AI21 Studio\\n    *   **Notes:** AI21 Labs is an Israeli company specializing in natural language processing. Jurassic-2 is a powerful multilingual model.\\n\\n*   **Cohere:**\\n    *   **Models:** Command, Generate, Embed\\n    *   **Platforms/Services:** Cohere API\\n    *   **Notes:** Cohere focuses on providing LLMs for enterprise use cases, with a strong emphasis on customization and control.\\n\\n*   **Meta:**\\n    *   **Models:** Llama (Llama 2, Llama 3)\\n    *   **Platforms/Services:** Available for download and use (open source-ish, with a license)\\n    *   **Notes:** Meta (Facebook) has released the Llama family of models, which are designed to be more accessible for research and commercial use.  They are not fully open source but are available under a license that allows for many uses.\\n\\n*   **Mistral AI:**\\n    *   **Models:** Mistral 7B, Mistral Large\\n    *   **Platforms/Services:** Mistral AI API, downloadable models\\n    *   **Notes:** A European company focused on efficient and performant LLMs. They offer both API access and downloadable models.\\n\\n**Other Notable Providers:**\\n\\n*   **Hugging Face:**\\n    *   **Models:** A vast collection of open-source models from various creators (including fine-tuned versions of models from the above providers).\\n    *   **Platforms/Services:** Hugging Face Hub (model repository), Transformers library, Inference API\\n    *   **Notes:** Hugging Face is a central hub for the AI community, providing tools and resources for working with a wide range of models.  They don't create base LLMs themselves as much as host and provide tools for using other people's models.\\n\\n*   **MosaicML (Databricks):**\\n    *   **Models:** MPT series\\n    *   **Platforms/Services:** MosaicML platform (now part of Databricks)\\n    *   **Notes:** MosaicML (acquired by Databricks) focuses on making it easier and more cost-effective to train and deploy LLMs.\\n\\n**Important Considerations:**\\n\\n*   **Model Capabilities:** Different models excel at different tasks (e.g., text generation, code completion, question answering, translation).\\n*   **Pricing:** Pricing models vary widely (pay-per-use, subscription, etc.).\\n*   **Access:** Some models are generally available, while others require approval or are only accessible through specific platforms.\\n*   **Open Source vs. Proprietary:** Some models are open source (or have permissive licenses), allowing for greater customization and control, while others are proprietary.\\n*   **Fine-tuning:** Many providers allow you to fine-tune their models on your own data for improved performance on specific tasks.\\n*   **Context Window:** The context window size (the amount of text the model can consider at once) is a crucial factor for many applications.\\n*   **Safety and Responsible AI:** Consider the safety measures and responsible AI practices of the provider.\\n\\nThis list is not exhaustive, as the field of LLMs is rapidly evolving. However, it covers the major players and should give you a good starting point for exploring your options. Remember to research the specific models and platforms that best suit your needs.\", additional_kwargs={}, response_metadata={'prompt_feedback': {'block_reason': 0, 'safety_ratings': []}, 'finish_reason': 'STOP', 'model_name': 'gemini-2.0-flash', 'safety_ratings': []}, id='run--84fb43ce-0d19-4c49-80c4-3d8c2af2f507-0', usage_metadata={'input_tokens': 13, 'output_tokens': 1215, 'total_tokens': 1228, 'input_token_details': {'cache_read': 0}})"
      ]
     },
     "execution_count": 29,
     "metadata": {},
     "output_type": "execute_result"
    }
   ],
   "source": [
    "from langchain_core.prompts import ChatPromptTemplate\n",
    "from langchain_core.runnables import chain\n",
    "\n",
    "# the building blocks\n",
    "\n",
    "template = ChatPromptTemplate.from_messages([('system', 'You are a helpful assistant.'),\n",
    "    ('human', '{question}'),\n",
    "])\n",
    "\n",
    "@chain\n",
    "def chatbot(values):\n",
    "    prompt = template.invoke(values)\n",
    "    return llm.invoke(prompt)\n",
    "\n",
    "chatbot.invoke({\"question\": \"Which model providers offer LLMs?\"})"
   ]
  },
  {
   "cell_type": "code",
   "execution_count": 30,
   "id": "c3b8502a",
   "metadata": {},
   "outputs": [],
   "source": [
    "@chain\n",
    "def chatbot(values):\n",
    "    prompt = template.invoke(values)\n",
    "    for token in llm.stream(prompt):\n",
    "        yield token"
   ]
  },
  {
   "cell_type": "code",
   "execution_count": 32,
   "id": "99920491",
   "metadata": {},
   "outputs": [
    {
     "name": "stdout",
     "output_type": "stream",
     "text": [
      "Okay\n",
      ", here's a breakdown of prominent model providers offering Large Language Models (LL\n",
      "Ms), categorized for clarity:\n",
      "\n",
      "**Major Cloud Providers (Offering a Range of Models\n",
      " & Services):**\n",
      "\n",
      "*   **Google:**\n",
      "    *   **Models:** PaLM 2, Gemini (Ultra, Pro, Nano), LaMDA (\n",
      "predecessor to PaLM), various smaller models.\n",
      "    *   **Platforms/Services:** Vertex AI (for model deployment and management), Google AI Studio (for prototyping\n",
      "), Cloud TPUs (for training).\n",
      "    *   **Notes:** Google is a leader in AI research and offers a broad spectrum of models, from general-purpose to specialized.\n",
      "\n",
      "*   **Microsoft:**\n",
      "    *   **Models:** GPT\n",
      " series (GPT-3, GPT-3.5, GPT-4) through their partnership with OpenAI, as well as their own models like Phi.\n",
      "    *   **Platforms/Services:** Azure AI (Cognitive Services, Machine\n",
      " Learning), Azure OpenAI Service (access to OpenAI models).\n",
      "    *   **Notes:** Microsoft's close collaboration with OpenAI gives them a strong position in offering cutting-edge LLMs.\n",
      "\n",
      "*   **Amazon Web Services (AWS):**\n",
      "    *   **Models:** Amazon Titan, Jurassic-2 (via\n",
      " AI21 Labs), Cohere models, Llama 2 (Meta), and access to other open-source models.\n",
      "    *   **Platforms/Services:** Amazon SageMaker (for model building, training, and deployment), Amazon Bedrock (managed service for accessing various foundation models).\n",
      "    *   **Notes\n",
      ":** AWS focuses on providing a wide selection of models and tools to cater to diverse customer needs.\n",
      "\n",
      "**Leading AI Companies & Startups:**\n",
      "\n",
      "*   **OpenAI:**\n",
      "    *   **Models:** GPT series (GPT-3, GPT-3.5, GPT-4, etc.), DALL-\n",
      "E (image generation), Codex (code generation).\n",
      "    *   **Platforms/Services:** OpenAI API (for accessing their models), Playground (interactive environment for testing).\n",
      "    *   **Notes:** OpenAI is at the forefront of LLM development and is known for its powerful and versatile models.\n",
      "\n",
      "*   **\n",
      "AI21 Labs:**\n",
      "    *   **Models:** Jurassic-1, Jurassic-2.\n",
      "    *   **Platforms/Services:** AI21 Studio (platform for building and deploying AI applications).\n",
      "    *   **Notes:** AI21 Labs focuses on building high-quality language models with a strong\n",
      " emphasis on reasoning and understanding.\n",
      "\n",
      "*   **Cohere:**\n",
      "    *   **Models:** Command, Generate, Embed.\n",
      "    *   **Platforms/Services:** Cohere API (for accessing their models).\n",
      "    *   **Notes:** Cohere emphasizes enterprise-grade LLMs with a focus on safety, reliability\n",
      ", and customization.\n",
      "\n",
      "*   **Meta AI (Facebook AI):**\n",
      "    *   **Models:** LLaMA, LLaMA 2.\n",
      "    *   **Platforms/Services:** Primarily focused on open-source releases and research.\n",
      "    *   **Notes:** Meta's LLaMA models have\n",
      " gained significant traction in the open-source community.\n",
      "\n",
      "*   **Hugging Face:**\n",
      "    *   **Models:** A vast collection of open-source models, including those from other providers, as well as their own.\n",
      "    *   **Platforms/Services:** Hugging Face Hub (repository of models and datasets\n",
      "), Transformers library (for working with LLMs).\n",
      "    *   **Notes:** Hugging Face is a central hub for the open-source AI community, providing tools and resources for working with a wide range of models.\n",
      "\n",
      "**Other Notable Providers:**\n",
      "\n",
      "*   **NVIDIA:**\n",
      "    *   **Models\n",
      ":** NeMo (framework for building and customizing LLMs).\n",
      "    *   **Platforms/Services:** NVIDIA AI Enterprise (software suite for AI development and deployment), DGX Cloud (AI supercomputing).\n",
      "    *   **Notes:** NVIDIA focuses on providing the hardware and software infrastructure for training and deploying LLMs.\n",
      "\n",
      "*   \n",
      "**Cerebras Systems:**\n",
      "    *   **Models:** Offers access to models through their Cerebras Model Studio.\n",
      "    *   **Platforms/Services:** Cerebras Wafer Scale Engine (specialized hardware for AI training).\n",
      "    *   **Notes:** Cerebras focuses on high-performance computing for AI,\n",
      " particularly for training large models.\n",
      "\n",
      "**Important Considerations:**\n",
      "\n",
      "*   **Model Access:**  Access to these models varies. Some are available through APIs, others through managed services, and some are open-source.\n",
      "*   **Pricing:** Pricing models differ significantly. Some providers charge per token, others offer subscription plans\n",
      ", and open-source models are generally free to use (but may require significant compute resources).\n",
      "*   **Capabilities:**  Each model has its strengths and weaknesses. Consider the specific tasks you need to perform when choosing a model.\n",
      "*   **Customization:** Some providers offer options for fine-tuning or customizing\n",
      " models to your specific data and requirements.\n",
      "*   **Open Source vs. Proprietary:** Open-source models offer greater transparency and control, while proprietary models often provide state-of-the-art performance.\n",
      "\n",
      "This list is not exhaustive, as the field of LLMs is rapidly evolving. New providers and models are\n",
      " constantly emerging. I recommend staying up-to-date with the latest developments in the AI community.\n",
      "\n"
     ]
    }
   ],
   "source": [
    "for part in chatbot.stream({\"question\": \"Which model providers offer LLMs?\"}):\n",
    "    print(part.content)"
   ]
  },
  {
   "cell_type": "code",
   "execution_count": 33,
   "id": "8d76cfc3",
   "metadata": {},
   "outputs": [
    {
     "data": {
      "text/plain": [
       "AIMessage(content=\"Okay, here's a breakdown of prominent model providers offering Large Language Models (LLMs), categorized for clarity:\\n\\n**Major Cloud Providers (Offering a Range of Models & Services):**\\n\\n*   **Google:**\\n    *   **Models:** PaLM 2, Gemini (Ultra, Pro, Nano), LaMDA (predecessor to PaLM), various smaller models.\\n    *   **Platforms/Services:** Vertex AI (for model deployment and management), Google AI Studio (for prototyping), Cloud TPUs (for training).\\n    *   **Notes:** Google is a leader in AI research and offers a broad spectrum of models, from general-purpose to specialized.\\n\\n*   **Microsoft:**\\n    *   **Models:** GPT series (GPT-3, GPT-3.5, GPT-4) through their partnership with OpenAI, as well as their own models like Phi.\\n    *   **Platforms/Services:** Azure AI (Cognitive Services, Machine Learning), Azure OpenAI Service (access to OpenAI models).\\n    *   **Notes:** Microsoft's close collaboration with OpenAI gives them a strong position in offering cutting-edge LLMs.\\n\\n*   **Amazon Web Services (AWS):**\\n    *   **Models:** Amazon Titan, Jurassic-2 (via AI21 Labs), Cohere models, Llama 2 (Meta), and access to other open-source models.\\n    *   **Platforms/Services:** Amazon SageMaker (for model building, training, and deployment), Amazon Bedrock (managed service for accessing various foundation models).\\n    *   **Notes:** AWS focuses on providing a wide selection of models and tools to cater to diverse customer needs.\\n\\n**Leading AI Companies & Startups:**\\n\\n*   **OpenAI:**\\n    *   **Models:** GPT series (GPT-3, GPT-3.5, GPT-4, etc.), DALL-E (image generation), Codex (code generation).\\n    *   **Platforms/Services:** OpenAI API (for accessing their models), Playground (interactive environment for testing).\\n    *   **Notes:** OpenAI is at the forefront of LLM development and is known for its powerful and versatile models.\\n\\n*   **AI21 Labs:**\\n    *   **Models:** Jurassic-1, Jurassic-2.\\n    *   **Platforms/Services:** AI21 Studio (platform for building and deploying AI applications).\\n    *   **Notes:** AI21 Labs focuses on building high-quality language models with a strong emphasis on reasoning and understanding.\\n\\n*   **Cohere:**\\n    *   **Models:** Command, Generate, Embed.\\n    *   **Platforms/Services:** Cohere API (for accessing their models).\\n    *   **Notes:** Cohere emphasizes enterprise-grade LLMs with a focus on safety, reliability, and customization.\\n\\n*   **Meta AI (Facebook AI):**\\n    *   **Models:** LLaMA, LLaMA 2.\\n    *   **Platforms/Services:** Primarily focused on open-source releases and research.\\n    *   **Notes:** Meta's LLaMA models have gained significant traction in the open-source community.\\n\\n*   **Hugging Face:**\\n    *   **Models:** A vast collection of open-source models, including those from other providers, as well as their own.\\n    *   **Platforms/Services:** Hugging Face Hub (repository of models and datasets), Transformers library (for working with LLMs).\\n    *   **Notes:** Hugging Face is a central hub for the open-source AI community, providing tools and resources for working with a wide range of models.\\n\\n**Other Notable Providers:**\\n\\n*   **NVIDIA:**\\n    *   **Models:** NeMo (framework for building and customizing LLMs).\\n    *   **Platforms/Services:** NVIDIA AI Enterprise (software suite for AI development and deployment), DGX Cloud (AI supercomputing).\\n    *   **Notes:** NVIDIA focuses on providing the hardware and software infrastructure for training and deploying LLMs.\\n\\n*   **Cerebras Systems:**\\n    *   **Models:** Offers access to models through their Cerebras Model Studio.\\n    *   **Platforms/Services:** Cerebras Wafer Scale Engine (specialized hardware for AI training).\\n    *   **Notes:** Cerebras focuses on high-performance computing for AI, particularly for training large models.\\n\\n**Important Considerations:**\\n\\n*   **Model Access:**  Access to these models varies. Some are available through APIs, others through managed services, and some are open-source.\\n*   **Pricing:** Pricing models differ significantly. Some providers charge per token, others offer subscription plans, and open-source models are generally free to use (but may require significant compute resources).\\n*   **Capabilities:**  Each model has its strengths and weaknesses. Consider the specific tasks you need to perform when choosing a model.\\n*   **Customization:** Some providers offer options for fine-tuning or customizing models to your specific data and requirements.\\n*   **Open Source vs. Proprietary:** Open-source models offer greater transparency and control, while proprietary models often provide state-of-the-art performance.\\n\\nThis list is not exhaustive, as the field of LLMs is rapidly evolving. New providers and models are constantly emerging. I recommend staying up-to-date with the latest developments in the AI community.\", additional_kwargs={}, response_metadata={'prompt_feedback': {'block_reason': 0, 'safety_ratings': []}, 'finish_reason': 'STOP', 'model_name': 'gemini-2.0-flash', 'safety_ratings': []}, id='run--483189a2-da17-46d8-8c5e-eeec75f234ab-0', usage_metadata={'input_tokens': 13, 'output_tokens': 1125, 'total_tokens': 1138, 'input_token_details': {'cache_read': 0}})"
      ]
     },
     "execution_count": 33,
     "metadata": {},
     "output_type": "execute_result"
    }
   ],
   "source": [
    "chatbot = template | llm\n",
    "chatbot.invoke({\"question\": \"Which model providers offer LLMs?\"})"
   ]
  },
  {
   "cell_type": "code",
   "execution_count": null,
   "id": "6a90864a",
   "metadata": {},
   "outputs": [],
   "source": []
  }
 ],
 "metadata": {
  "kernelspec": {
   "display_name": "llm",
   "language": "python",
   "name": "python3"
  },
  "language_info": {
   "codemirror_mode": {
    "name": "ipython",
    "version": 3
   },
   "file_extension": ".py",
   "mimetype": "text/x-python",
   "name": "python",
   "nbconvert_exporter": "python",
   "pygments_lexer": "ipython3",
   "version": "3.10.18"
  }
 },
 "nbformat": 4,
 "nbformat_minor": 5
}
